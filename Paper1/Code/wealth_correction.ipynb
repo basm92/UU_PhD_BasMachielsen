{
 "cells": [
  {
   "cell_type": "code",
   "execution_count": 1,
   "metadata": {},
   "outputs": [
    {
     "data": {
      "text/plain": [
       "['.Rhistory', 'Reports', 'Data', 'Tables', 'Figures', 'Code']"
      ]
     },
     "execution_count": 1,
     "metadata": {},
     "output_type": "execute_result"
    }
   ],
   "source": [
    "import pandas as pd\n",
    "import os\n",
    "from functools import reduce\n",
    "\n",
    "os.getcwd()\n",
    "\n",
    "os.chdir(\"/home/bas/Documents/git/UU_PhD_BasMachielsen/Paper1\")\n",
    "\n",
    "os.listdir()\n"
   ]
  },
  {
   "cell_type": "code",
   "execution_count": 10,
   "metadata": {},
   "outputs": [
    {
     "data": {
      "text/html": [
       "<div>\n",
       "<style scoped>\n",
       "    .dataframe tbody tr th:only-of-type {\n",
       "        vertical-align: middle;\n",
       "    }\n",
       "\n",
       "    .dataframe tbody tr th {\n",
       "        vertical-align: top;\n",
       "    }\n",
       "\n",
       "    .dataframe thead th {\n",
       "        text-align: right;\n",
       "    }\n",
       "</style>\n",
       "<table border=\"1\" class=\"dataframe\">\n",
       "  <thead>\n",
       "    <tr style=\"text-align: right;\">\n",
       "      <th></th>\n",
       "      <th>Year</th>\n",
       "      <th>Real GDP per capita</th>\n",
       "    </tr>\n",
       "  </thead>\n",
       "  <tbody>\n",
       "    <tr>\n",
       "      <th>0</th>\n",
       "      <td>1850</td>\n",
       "      <td>2355</td>\n",
       "    </tr>\n",
       "    <tr>\n",
       "      <th>1</th>\n",
       "      <td>1851</td>\n",
       "      <td>2388</td>\n",
       "    </tr>\n",
       "    <tr>\n",
       "      <th>2</th>\n",
       "      <td>1852</td>\n",
       "      <td>2361</td>\n",
       "    </tr>\n",
       "    <tr>\n",
       "      <th>3</th>\n",
       "      <td>1853</td>\n",
       "      <td>2308</td>\n",
       "    </tr>\n",
       "    <tr>\n",
       "      <th>4</th>\n",
       "      <td>1854</td>\n",
       "      <td>2449</td>\n",
       "    </tr>\n",
       "    <tr>\n",
       "      <th>...</th>\n",
       "      <td>...</td>\n",
       "      <td>...</td>\n",
       "    </tr>\n",
       "    <tr>\n",
       "      <th>96</th>\n",
       "      <td>1946</td>\n",
       "      <td>4457</td>\n",
       "    </tr>\n",
       "    <tr>\n",
       "      <th>97</th>\n",
       "      <td>1947</td>\n",
       "      <td>5048</td>\n",
       "    </tr>\n",
       "    <tr>\n",
       "      <th>98</th>\n",
       "      <td>1948</td>\n",
       "      <td>5490</td>\n",
       "    </tr>\n",
       "    <tr>\n",
       "      <th>99</th>\n",
       "      <td>1949</td>\n",
       "      <td>5880</td>\n",
       "    </tr>\n",
       "    <tr>\n",
       "      <th>100</th>\n",
       "      <td>1950</td>\n",
       "      <td>5996</td>\n",
       "    </tr>\n",
       "  </tbody>\n",
       "</table>\n",
       "<p>101 rows × 2 columns</p>\n",
       "</div>"
      ],
      "text/plain": [
       "     Year  Real GDP per capita\n",
       "0    1850                 2355\n",
       "1    1851                 2388\n",
       "2    1852                 2361\n",
       "3    1853                 2308\n",
       "4    1854                 2449\n",
       "..    ...                  ...\n",
       "96   1946                 4457\n",
       "97   1947                 5048\n",
       "98   1948                 5490\n",
       "99   1949                 5880\n",
       "100  1950                 5996\n",
       "\n",
       "[101 rows x 2 columns]"
      ]
     },
     "execution_count": 10,
     "metadata": {},
     "output_type": "execute_result"
    }
   ],
   "source": [
    "parwealth = pd.read_excel(\"./Data/instrumental_variable_est.xlsx\")\n",
    "\n",
    "inflation = pd.read_excel(\"./Data/AnalysisFile.xlsx\", sheet_name=\"InflationGDP\")\n",
    "inflation = inflation[['Year','Real GDP per capita']]\n",
    "\n",
    "inflation\n",
    "\n",
    "#for i in parwealth['wealth_father']: print(i)"
   ]
  },
  {
   "cell_type": "code",
   "execution_count": 3,
   "metadata": {},
   "outputs": [],
   "source": [
    "def correct_wealth(beginyr = 1850, voteyr = 1880):\n",
    "    years = inflation.Year.isin(range(beginyr, voteyr+1))\n",
    "    temp = inflation[years]\n",
    "    \n",
    "    gdprates = list()\n",
    "    gdprates.append(1)\n",
    "    \n",
    "    for i in range(len(temp['Real GDP per capita'])-1):\n",
    "        rate = (temp.iloc[i+1]['Real GDP per capita'] - temp.iloc[i]['Real GDP per capita'])/temp.iloc[i]['Real GDP per capita']\n",
    "        rate = 1 + rate\n",
    "        gdprates.append(rate)\n",
    "        \n",
    "    temp = temp.assign(gdprates = gdprates)\n",
    "    return temp"
   ]
  },
  {
   "cell_type": "code",
   "execution_count": 4,
   "metadata": {},
   "outputs": [],
   "source": [
    "def wealth_cor(beginyr, voteyr, wealth_instr = 1000):\n",
    "    temp = correct_wealth(beginyr, voteyr)\n",
    "    wealth_cor = reduce(lambda x, y: x*y, [wealth_instr] + list(temp['gdprates']))\n",
    "    return wealth_cor"
   ]
  },
  {
   "cell_type": "code",
   "execution_count": 8,
   "metadata": {},
   "outputs": [
    {
     "data": {
      "text/plain": [
       "135286.6242038216"
      ]
     },
     "execution_count": 8,
     "metadata": {},
     "output_type": "execute_result"
    }
   ],
   "source": [
    "wealth_cor(1850, 1890, 100000)"
   ]
  },
  {
   "cell_type": "code",
   "execution_count": null,
   "metadata": {},
   "outputs": [],
   "source": []
  }
 ],
 "metadata": {
  "kernelspec": {
   "display_name": "Python 3",
   "language": "python",
   "name": "python3"
  },
  "language_info": {
   "codemirror_mode": {
    "name": "ipython",
    "version": 3
   },
   "file_extension": ".py",
   "mimetype": "text/x-python",
   "name": "python",
   "nbconvert_exporter": "python",
   "pygments_lexer": "ipython3",
   "version": "3.7.6"
  }
 },
 "nbformat": 4,
 "nbformat_minor": 4
}
